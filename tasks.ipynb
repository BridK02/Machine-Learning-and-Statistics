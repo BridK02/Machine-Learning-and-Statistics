{
 "cells": [
  {
   "cell_type": "markdown",
   "metadata": {},
   "source": [
    "# My Notebook\n",
    "\n",
    "***"
   ]
  },
  {
   "cell_type": "markdown",
   "metadata": {},
   "source": [
    "# Tasks\n",
    "\n",
    "Machine Learning and Statistics\n",
    "\n",
    "Winter 2023/2024\n",
    "\n",
    "by Brid Kennedy\n",
    "\n",
    "***"
   ]
  },
  {
   "cell_type": "markdown",
   "metadata": {},
   "source": [
    "## Task 1\n",
    "\n",
    "> Square roots are difficult to calculate. In Python, you typically use the power operator (a double asterisk) or a package such as `math`. In this task, you should write a function `sqrt(x)` to approximate the square root of a floating point number x without using the power operator or a package.\n",
    ">Rather, you should use the Newton’s method. Start with an initial guess for the square root called $z_0$. You then repeatedly improve it using the following formula, until the difference between some previous guess $z_i$ and the next $z_{i+1}$ is less than some threshold, say 0.01.\n",
    "\n",
    "$$ z_{i+1} = z_i - \\frac{z_i × z_i-x}{2z_i}$$\n"
   ]
  },
  {
   "cell_type": "code",
   "execution_count": 17,
   "metadata": {},
   "outputs": [],
   "source": [
    "#The number that we want to calculate the square root of \n",
    "\n",
    "x = 16\n",
    "\n"
   ]
  },
  {
   "cell_type": "code",
   "execution_count": 18,
   "metadata": {},
   "outputs": [],
   "source": [
    "# Our initial quess for the square root\n",
    "\n",
    "z = 2.4\n"
   ]
  },
  {
   "cell_type": "code",
   "execution_count": 19,
   "metadata": {},
   "outputs": [
    {
     "data": {
      "text/plain": [
       "4.533333333333333"
      ]
     },
     "execution_count": 19,
     "metadata": {},
     "output_type": "execute_result"
    }
   ],
   "source": [
    "z = z -(((z*z) - x)/(2*z))\n",
    "\n",
    "z\n",
    "             "
   ]
  },
  {
   "cell_type": "markdown",
   "metadata": {},
   "source": [
    "### Now to make this a function def the function sqrt(x)"
   ]
  },
  {
   "cell_type": "code",
   "execution_count": 20,
   "metadata": {},
   "outputs": [],
   "source": [
    "def sqrt(x):\n",
    "    # Initial guess for the square root\n",
    "    z = x / 2.0  # You can choose any reasonable initial guess\n",
    "    \n",
    "    # if z squared minus x equals zero then set a number as the threshold\n",
    "    threshold = 0.0000001\n",
    "    \n",
    "    while abs(z * z - x) > threshold:\n",
    "        # Newton's method formula to improve the guess\n",
    "        z = z - (z * z - x) / (2 * z)\n",
    "    \n",
    "    return z"
   ]
  },
  {
   "cell_type": "code",
   "execution_count": 21,
   "metadata": {},
   "outputs": [
    {
     "name": "stdout",
     "output_type": "stream",
     "text": [
      "The approximate square root of 16.0 is 4.000000000000004\n"
     ]
    }
   ],
   "source": [
    "# Test the function\n",
    "x = 16.0  # Replace with any floating point number you want to find the square root of\n",
    "result = sqrt(x)\n",
    "print(f\"The approximate square root of {x} is {result}\")"
   ]
  },
  {
   "cell_type": "code",
   "execution_count": 22,
   "metadata": {},
   "outputs": [
    {
     "data": {
      "text/plain": [
       "4.0"
      ]
     },
     "execution_count": 22,
     "metadata": {},
     "output_type": "execute_result"
    }
   ],
   "source": [
    "#Compare to python answer\n",
    "16**0.5\n"
   ]
  },
  {
   "cell_type": "code",
   "execution_count": 23,
   "metadata": {},
   "outputs": [
    {
     "name": "stdout",
     "output_type": "stream",
     "text": [
      "The approximate square root of 389 is 19.723082923507924\n"
     ]
    }
   ],
   "source": [
    "# Test with another number\n",
    "x = 389\n",
    "result = sqrt(x)\n",
    "print(f\"The approximate square root of {x} is {result}\")"
   ]
  },
  {
   "cell_type": "code",
   "execution_count": 26,
   "metadata": {},
   "outputs": [
    {
     "data": {
      "text/plain": [
       "19.72308292331602"
      ]
     },
     "execution_count": 26,
     "metadata": {},
     "output_type": "execute_result"
    }
   ],
   "source": [
    "389**0.5\n"
   ]
  },
  {
   "cell_type": "markdown",
   "metadata": {},
   "source": [
    "A commonly used cost function for Newtons method is the mean squared error (MSE) which measures the average of the squared differences between the predicted values and the actual values. In this case, the actual value is the true square root of the input x."
   ]
  },
  {
   "cell_type": "code",
   "execution_count": 38,
   "metadata": {},
   "outputs": [
    {
     "name": "stdout",
     "output_type": "stream",
     "text": [
      "The square root of 389.0 is approximately 19.72825592760715\n"
     ]
    }
   ],
   "source": [
    "def sqrt(x, initial_guess=10.0, threshold=0.01, max_iterations=100):\n",
    "    # Check for negative input\n",
    "    if x < 0:\n",
    "        raise ValueError(\"Cannot calculate square root of a negative number\")\n",
    "\n",
    "    # Initialize the guess to the provided initial_guess\n",
    "    z = initial_guess\n",
    "\n",
    "    # Initialize a variable to keep track of the number of iterations\n",
    "    iterations = 0\n",
    "\n",
    "    while iterations < max_iterations:\n",
    "        # Calculate the next guess using Newton's method formula\n",
    "        next_guess = z - (z * z - x) / (2 * z)\n",
    "\n",
    "        # Calculate the mean squared error as the cost\n",
    "        mse = (next_guess * next_guess - x) ** 2\n",
    "\n",
    "        # If the cost is less than the threshold, return the current guess\n",
    "        if mse < threshold:\n",
    "            return z\n",
    "\n",
    "        # Update the guess\n",
    "        z = next_guess\n",
    "\n",
    "        # Increment the iteration counter\n",
    "        iterations += 1\n",
    "\n",
    "    return z  # Return the current guess after max_iterations\n",
    "\n",
    "# Example usage:\n",
    "x = 389.0  # Change this to the number you want to find the square root of\n",
    "result = sqrt(x)\n",
    "print(f\"The square root of {x} is approximately {result}\")\n"
   ]
  },
  {
   "cell_type": "code",
   "execution_count": 33,
   "metadata": {},
   "outputs": [
    {
     "data": {
      "text/plain": [
       "19.72308292331602"
      ]
     },
     "execution_count": 33,
     "metadata": {},
     "output_type": "execute_result"
    }
   ],
   "source": [
    "389**0.5\n"
   ]
  },
  {
   "cell_type": "markdown",
   "metadata": {},
   "source": [
    "***\n",
    "In the modified sqrt function the MSE is used to quantify the error between the current guess and the actual square root, and the optimization process aims to minimize this error. By using the MSE, you're effectively guiding the Newton's method towards finding a more accurate square root approximation.\n",
    "\n",
    "****"
   ]
  },
  {
   "cell_type": "markdown",
   "metadata": {},
   "source": [
    "References:\n",
    "***\n",
    "1. https://math.mit.edu/~stevenj/18.335/newton-sqrt.pdf\n",
    "2. Bishop, C. M. (2006). Pattern Recognition and Machine Learning. Springer.\n",
    "3. Hastie, T., Tibshirani, R., & Friedman, J. (2009). The Elements of Statistical Learning. Springer.\n",
    "4. Wikipedia. (n.d.). Mean Squared Error. Retrieved from https://en.wikipedia.org/wiki/Mean_squared_error\n",
    "\n",
    "***"
   ]
  },
  {
   "cell_type": "markdown",
   "metadata": {},
   "source": [
    "\n",
    "# End\n",
    "\n",
    "***"
   ]
  },
  {
   "cell_type": "markdown",
   "metadata": {},
   "source": []
  }
 ],
 "metadata": {
  "kernelspec": {
   "display_name": "base",
   "language": "python",
   "name": "python3"
  },
  "language_info": {
   "codemirror_mode": {
    "name": "ipython",
    "version": 3
   },
   "file_extension": ".py",
   "mimetype": "text/x-python",
   "name": "python",
   "nbconvert_exporter": "python",
   "pygments_lexer": "ipython3",
   "version": "3.11.4"
  },
  "orig_nbformat": 4
 },
 "nbformat": 4,
 "nbformat_minor": 2
}
