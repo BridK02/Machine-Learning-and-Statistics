{
 "cells": [
  {
   "cell_type": "markdown",
   "id": "9ddf13f0",
   "metadata": {},
   "source": [
    "# Task 2\n",
    "\n",
    "Machine Learning and Statistics\n",
    "\n",
    " Winter 2023/2024\n",
    "\n",
    "by Brid Kennedy\n",
    "\n",
    "***\n"
   ]
  },
  {
   "cell_type": "markdown",
   "id": "8baf6127",
   "metadata": {},
   "source": [
    "Consider the below contingency table based on a survey asking respondents whether they prefer coffee or tea and whether they\n",
    "prefer plain or chocolate biscuits. Use scipy.stats to perform a chi-squared test to see whether there is any evidence of an association between drink preference and biscuit preference in this instance.\n",
    "\n",
    "|       | **Biscuit** | | |\n",
    "|-------|---------|-----------|-------|\n",
    "|       |  | *Chocolate* |*Plain*|\n",
    "|-------|---------|-----------|-------|\n",
    "| **Drink** |*Coffee*  |    43     |  57   |\n",
    "|       | *Tea*   |   56      |    45 |"
   ]
  },
  {
   "cell_type": "code",
   "execution_count": null,
   "id": "53fcd3ec",
   "metadata": {},
   "outputs": [],
   "source": [
    "#Import the necessary libraries:\n",
    "import numpy as np\n",
    "from scipy.stats import chi2_contingency\n"
   ]
  },
  {
   "cell_type": "code",
   "execution_count": null,
   "id": "9fecd5d0",
   "metadata": {},
   "outputs": [],
   "source": [
    "# Create the contingency as a NumPy array. \n",
    "table = np.array([[43, 57],\n",
    "                  [56, 45]])"
   ]
  },
  {
   "cell_type": "code",
   "execution_count": null,
   "id": "61b7a440",
   "metadata": {},
   "outputs": [
    {
     "data": {
      "text/plain": [
       "Chi2ContingencyResult(statistic=2.6359100836554257, pvalue=0.10447218120907394, dof=1, expected_freq=array([[49.25373134, 50.74626866],\n",
       "       [49.74626866, 51.25373134]]))"
      ]
     },
     "execution_count": 7,
     "metadata": {},
     "output_type": "execute_result"
    }
   ],
   "source": [
    "# Perform the chi-squared test\n",
    "result = chi2_contingency(table)\n",
    "\n",
    "#show\n",
    "result\n",
    "\n"
   ]
  },
  {
   "cell_type": "markdown",
   "id": "77fab498",
   "metadata": {},
   "source": [
    "The above statistics include Yates' correction, also known as Yates' continuity correction, is an adjustment made to the chi-squared test when analyzing 2x2 contingency tables to account for the potential bias introduced by the use of a discrete (categorical) approximation in a continuous (theoretical) distribution. It's a small adjustment to the chi-squared statistic that tends to make the test less sensitive. Whether Yates' correction should be applied depends on the specific context and the nature of your data. The current data has a large sample sizes, therefore the Yates' correction has little practical impact, and  the correction is generally unnecessary. To remove it enter "
   ]
  },
  {
   "cell_type": "code",
   "execution_count": null,
   "id": "dd1b7f24",
   "metadata": {},
   "outputs": [
    {
     "data": {
      "text/plain": [
       "Chi2ContingencyResult(statistic=3.113937364324669, pvalue=0.07762509678333357, dof=1, expected_freq=array([[49.25373134, 50.74626866],\n",
       "       [49.74626866, 51.25373134]]))"
      ]
     },
     "execution_count": 11,
     "metadata": {},
     "output_type": "execute_result"
    }
   ],
   "source": [
    "result = chi2_contingency(table, correction=False)\n",
    "result\n"
   ]
  },
  {
   "cell_type": "code",
   "execution_count": null,
   "id": "319bc101",
   "metadata": {
    "scrolled": true
   },
   "outputs": [
    {
     "name": "stdout",
     "output_type": "stream",
     "text": [
      "There is no evidence of an association between drink preference and biscuit preference.\n"
     ]
    }
   ],
   "source": [
    "alpha = 0.05  # Significance level\n",
    "if p < alpha:\n",
    "    print(\"There is evidence of an association between drink preference and biscuit preference.\")\n",
    "else:\n",
    "    print(\"There is no evidence of an association between drink preference and biscuit preference.\")"
   ]
  },
  {
   "cell_type": "markdown",
   "id": "d2205dfa",
   "metadata": {},
   "source": [
    "***\n",
    "\n",
    "## End"
   ]
  },
  {
   "cell_type": "markdown",
   "id": "e725c72a",
   "metadata": {},
   "source": [
    "# References\n",
    "\n",
    "## Statistical Test\n",
    "\n",
    "1. https://docs.scipy.org/doc/scipy/reference/generated/scipy.stats.chi2_contingency.html.\n",
    "2. https://www.statisticshowto.datasciencecentral.com \n",
    "3. https://en.wikipedia.org/wiki/Yates%27s_correction_for_continuity\n",
    "\n",
    "***"
   ]
  }
 ],
 "metadata": {
  "kernelspec": {
   "display_name": "Python 3 (ipykernel)",
   "language": "python",
   "name": "python3"
  },
  "language_info": {
   "codemirror_mode": {
    "name": "ipython",
    "version": 3
   },
   "file_extension": ".py",
   "mimetype": "text/x-python",
   "name": "python",
   "nbconvert_exporter": "python",
   "pygments_lexer": "ipython3",
   "version": "3.11.4"
  }
 },
 "nbformat": 4,
 "nbformat_minor": 5
}
